{
 "cells": [
  {
   "cell_type": "markdown",
   "id": "db1d999c",
   "metadata": {},
   "source": [
    "# Units of Measure\n",
    "\n",
    "This library `units-of-measure` (package `unitsofmeasure`) models units of measurement."
   ]
  },
  {
   "cell_type": "code",
   "execution_count": 2,
   "id": "016f10fb",
   "metadata": {},
   "outputs": [
    {
     "name": "stdout",
     "output_type": "stream",
     "text": [
      "kg\n"
     ]
    },
    {
     "data": {
      "text/plain": [
       "Unit(symbol=\"kg\", name=\"kilogram\", dimension=Dimension(kg=1, m=0, s=0, A=0, K=0, cd=0, mol=0), prefix=Prefix(base=10, exponent=3, symbol=\"k\", name=\"kilo\"), factor=Fraction(1, 1))"
      ]
     },
     "execution_count": 2,
     "metadata": {},
     "output_type": "execute_result"
    }
   ],
   "source": [
    "from unitsofmeasure import Dimension, Unit\n",
    "from unitsofmeasure.decprefix import DecimalPrefixes\n",
    "\n",
    "unit = Unit(\"kg\", \"kilogram\", Dimension(kg=1), DecimalPrefixes.k)\n",
    "print(unit)\n",
    "unit"
   ]
  },
  {
   "cell_type": "code",
   "execution_count": 3,
   "id": "841af2dd",
   "metadata": {},
   "outputs": [
    {
     "name": "stdout",
     "output_type": "stream",
     "text": [
      "Mt\n"
     ]
    },
    {
     "data": {
      "text/plain": [
       "Unit(symbol=\"Mt\", name=\"megatonnes\", dimension=Dimension(kg=1, m=0, s=0, A=0, K=0, cd=0, mol=0), prefix=Prefix(base=10, exponent=6, symbol=\"M\", name=\"mega\"), factor=Fraction(1, 1))"
      ]
     },
     "execution_count": 3,
     "metadata": {},
     "output_type": "execute_result"
    }
   ],
   "source": [
    "Mt = Unit(\"Mt\", \"megatonnes\", Dimension(kg=1), DecimalPrefixes.M)\n",
    "print(Mt)\n",
    "Mt"
   ]
  }
 ],
 "metadata": {
  "kernelspec": {
   "display_name": "Python 3 (ipykernel)",
   "language": "python",
   "name": "python3"
  },
  "language_info": {
   "codemirror_mode": {
    "name": "ipython",
    "version": 3
   },
   "file_extension": ".py",
   "mimetype": "text/x-python",
   "name": "python",
   "nbconvert_exporter": "python",
   "pygments_lexer": "ipython3",
   "version": "3.9.6"
  }
 },
 "nbformat": 4,
 "nbformat_minor": 5
}
