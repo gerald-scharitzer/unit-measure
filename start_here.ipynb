{
 "cells": [
  {
   "cell_type": "markdown",
   "id": "db1d999c",
   "metadata": {},
   "source": [
    "# Units of Measure\n",
    "\n",
    "This library `units-of-measure` (package `unitsofmeasure`) models units of measurement."
   ]
  },
  {
   "cell_type": "code",
   "execution_count": 1,
   "id": "016f10fb",
   "metadata": {},
   "outputs": [
    {
     "name": "stdout",
     "output_type": "stream",
     "text": [
      "kg\n"
     ]
    }
   ],
   "source": [
    "from unitsofmeasure import Dimension, Unit\n",
    "\n",
    "unit = Unit(Dimension(kg=1),symbol=\"kg\",name=\"kilogram\")\n",
    "print(unit)\n",
    "pass"
   ]
  }
 ],
 "metadata": {
  "kernelspec": {
   "display_name": "Python 3 (ipykernel)",
   "language": "python",
   "name": "python3"
  },
  "language_info": {
   "codemirror_mode": {
    "name": "ipython",
    "version": 3
   },
   "file_extension": ".py",
   "mimetype": "text/x-python",
   "name": "python",
   "nbconvert_exporter": "python",
   "pygments_lexer": "ipython3",
   "version": "3.9.6"
  }
 },
 "nbformat": 4,
 "nbformat_minor": 5
}
