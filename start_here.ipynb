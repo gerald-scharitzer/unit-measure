{
 "cells": [
  {
   "cell_type": "markdown",
   "id": "db1d999c",
   "metadata": {},
   "source": [
    "# Units of Measure\n",
    "\n",
    "This library `units-of-measure` (package `unitsofmeasure`) models units of measurement.\n",
    "\n",
    "## Scalars\n",
    "\n",
    "have no physical dimension."
   ]
  },
  {
   "cell_type": "code",
   "execution_count": 1,
   "id": "0fb0c495",
   "metadata": {},
   "outputs": [
    {
     "name": "stdout",
     "output_type": "stream",
     "text": [
      "angle: 90 °\n"
     ]
    },
    {
     "data": {
      "text/plain": [
       "Unit(symbol=\"°\", name=\"degree\", dimension=Dimension(kg=0, m=0, s=0, A=0, K=0, cd=0, mol=0), prefix=Prefix(base=10, exponent=0, symbol=\"\", name=\"\"), factor=Fraction(1, 1))"
      ]
     },
     "execution_count": 1,
     "metadata": {},
     "output_type": "execute_result"
    }
   ],
   "source": [
    "from unitsofmeasure import Unit\n",
    "angle = 90\n",
    "deg = Unit(\"°\", \"degree\")\n",
    "print(\"angle:\", angle, deg)\n",
    "deg"
   ]
  },
  {
   "cell_type": "markdown",
   "id": "b829f6ae",
   "metadata": {},
   "source": [
    "The default dimension is the scalar, where the exponents of the SI base units are all 0.\n",
    "\n",
    "The default prefix is no prefix, which is equivalent to the prefix 1, or base 10 raised to the power of 0."
   ]
  },
  {
   "cell_type": "markdown",
   "id": "3818b6c6",
   "metadata": {},
   "source": [
    "## Dimension\n",
    "\n",
    "Physical units have a dimension."
   ]
  },
  {
   "cell_type": "code",
   "execution_count": 2,
   "id": "939b38dd",
   "metadata": {},
   "outputs": [
    {
     "name": "stdout",
     "output_type": "stream",
     "text": [
      "time: 60 s\n"
     ]
    },
    {
     "data": {
      "text/plain": [
       "Unit(symbol=\"s\", name=\"second\", dimension=Dimension(kg=0, m=0, s=1, A=0, K=0, cd=0, mol=0), prefix=Prefix(base=10, exponent=0, symbol=\"\", name=\"\"), factor=Fraction(1, 1))"
      ]
     },
     "execution_count": 2,
     "metadata": {},
     "output_type": "execute_result"
    }
   ],
   "source": [
    "from unitsofmeasure import Dimension\n",
    "time = 60\n",
    "s = Unit(\"s\", \"second\", Dimension(s=1))\n",
    "print(\"time:\", time, s)\n",
    "s"
   ]
  },
  {
   "cell_type": "code",
   "execution_count": 3,
   "id": "fdd41c54",
   "metadata": {},
   "outputs": [
    {
     "name": "stdout",
     "output_type": "stream",
     "text": [
      "rotational speed: 0.004166666666666667 rpm\n"
     ]
    },
    {
     "data": {
      "text/plain": [
       "Unit(symbol=\"rpm\", name=\"rounds per minute\", dimension=Dimension(kg=0, m=0, s=-1, A=0, K=0, cd=0, mol=0), prefix=Prefix(base=10, exponent=0, symbol=\"\", name=\"\"), factor=Fraction(1, 1))"
      ]
     },
     "execution_count": 3,
     "metadata": {},
     "output_type": "execute_result"
    }
   ],
   "source": [
    "rpm = Unit(\"rpm\", \"rounds per minute\", Dimension(s=-1))\n",
    "print(\"rotational speed:\", angle/360/time, rpm)\n",
    "rpm"
   ]
  },
  {
   "cell_type": "markdown",
   "id": "b3dee43e",
   "metadata": {},
   "source": [
    "### SI Base Units\n",
    "\n",
    "are already defined in module `base`."
   ]
  },
  {
   "cell_type": "code",
   "execution_count": 4,
   "id": "a8182913",
   "metadata": {},
   "outputs": [
    {
     "name": "stdout",
     "output_type": "stream",
     "text": [
      "symbol name\n",
      "------ --------\n",
      "kg     kilogram\n",
      "m      metre   \n",
      "s      second  \n",
      "A      ampere  \n",
      "K      kelvin  \n",
      "cd     candela \n",
      "mol    mole    \n"
     ]
    }
   ],
   "source": [
    "from unitsofmeasure import base\n",
    "print(\"symbol name\")\n",
    "print(\"------ --------\")\n",
    "for unit in base.si_base_units.values():\n",
    "    print(f\"{unit!s:6} {unit.name:8}\")"
   ]
  },
  {
   "cell_type": "markdown",
   "id": "65bc907a",
   "metadata": {},
   "source": [
    "### SI Derived Units\n",
    "\n",
    "are already defined in module `derived`."
   ]
  },
  {
   "cell_type": "code",
   "execution_count": 5,
   "id": "8c90f4fd",
   "metadata": {},
   "outputs": [
    {
     "name": "stdout",
     "output_type": "stream",
     "text": [
      "symbol name\n",
      "------ --------------\n",
      "rad    radian        \n",
      "sr     steradian     \n",
      "Hz     hertz         \n",
      "N      newton        \n",
      "Pa     pascal        \n",
      "J      joule         \n",
      "W      watt          \n",
      "C      coulomb       \n",
      "V      volt          \n",
      "F      farad         \n",
      "Ω      ohm           \n",
      "S      siemens       \n",
      "Wb     weber         \n",
      "T      tesla         \n",
      "H      henry         \n",
      "°C     degree Celsius\n",
      "lm     lumen         \n",
      "lx     lux           \n",
      "Bq     becquerel     \n",
      "Gy     gray          \n",
      "Sv     sievert       \n",
      "kat    katal         \n"
     ]
    }
   ],
   "source": [
    "from unitsofmeasure import derived\n",
    "print(\"symbol name\")\n",
    "print(\"------ --------------\")\n",
    "for unit in derived.si_derived_units.values():\n",
    "    print(f\"{unit!s:6} {unit.name:14}\")"
   ]
  },
  {
   "cell_type": "markdown",
   "id": "0a0f7de2",
   "metadata": {},
   "source": [
    "## Prefix\n",
    "\n",
    "Larger or smaller quantities can be expressed with prefixes."
   ]
  },
  {
   "cell_type": "code",
   "execution_count": 6,
   "id": "016f10fb",
   "metadata": {},
   "outputs": [
    {
     "name": "stdout",
     "output_type": "stream",
     "text": [
      "mass: 80 kg\n"
     ]
    },
    {
     "data": {
      "text/plain": [
       "Unit(symbol=\"kg\", name=\"kilogram\", dimension=Dimension(kg=1, m=0, s=0, A=0, K=0, cd=0, mol=0), prefix=Prefix(base=10, exponent=3, symbol=\"k\", name=\"kilo\"), factor=Fraction(1, 1))"
      ]
     },
     "execution_count": 6,
     "metadata": {},
     "output_type": "execute_result"
    }
   ],
   "source": [
    "from unitsofmeasure import decprefix\n",
    "mass = 80\n",
    "kg = Unit(\"kg\", \"kilogram\", Dimension(kg=1), decprefix.k)\n",
    "print(\"mass:\", mass, kg)\n",
    "kg"
   ]
  },
  {
   "cell_type": "markdown",
   "id": "5947f62e",
   "metadata": {},
   "source": [
    "### SI Prefixes\n",
    "\n",
    "are already defined in the modules `decprefix` and `binprefix`.\n",
    "\n",
    "#### Decimal Prefixes\n",
    "\n",
    "have base 10 and enumerate exponents with absolute value 1 and 2, and in steps of 3. Multiples have exponents > 0 and sub-multiples have exponents < 0."
   ]
  },
  {
   "cell_type": "code",
   "execution_count": 7,
   "id": "01b631af",
   "metadata": {},
   "outputs": [
    {
     "name": "stdout",
     "output_type": "stream",
     "text": [
      "symbol name  base exponent\n",
      "------ ----- ---- --------\n",
      "da     deca    10        1\n",
      "h      hecto   10        2\n",
      "k      kilo    10        3\n",
      "M      mega    10        6\n",
      "G      giga    10        9\n",
      "T      tera    10       12\n",
      "P      peta    10       15\n",
      "E      exa     10       18\n",
      "Z      zetta   10       21\n",
      "Y      yotta   10       24\n",
      "d      deci    10       -1\n",
      "c      centi   10       -2\n",
      "m      milli   10       -3\n",
      "µ      micro   10       -6\n",
      "n      nano    10       -9\n",
      "p      pico    10      -12\n",
      "f      femto   10      -15\n",
      "a      atto    10      -18\n",
      "z      zepto   10      -21\n",
      "y      yocto   10      -24\n"
     ]
    }
   ],
   "source": [
    "print(\"symbol name  base exponent\")\n",
    "print(\"------ ----- ---- --------\")\n",
    "for prefix in decprefix.si_decimal_prefixes.values():\n",
    "    print(f\"{prefix!s:6} {prefix.name:5} {prefix.base:4} {prefix.exponent:8}\")"
   ]
  },
  {
   "cell_type": "markdown",
   "id": "9b099506",
   "metadata": {},
   "source": [
    "#### Binary Prefixes\n",
    "have base 2 and enumerate exponents in steps of 10. This is equivalent to base 1024 and exponents in steps of 1."
   ]
  },
  {
   "cell_type": "code",
   "execution_count": 8,
   "id": "1316ff10",
   "metadata": {},
   "outputs": [
    {
     "name": "stdout",
     "output_type": "stream",
     "text": [
      "symbol name base exponent\n",
      "------ ---- ---- --------\n",
      "Ki     kibi    2       10\n",
      "Mi     mebi    2       20\n",
      "Gi     gibi    2       30\n",
      "Ti     tebi    2       40\n",
      "Pi     pebi    2       50\n",
      "Ei     exbi    2       60\n",
      "Zi     zebi    2       70\n",
      "Yi     yobi    2       80\n"
     ]
    }
   ],
   "source": [
    "from unitsofmeasure import binprefix\n",
    "print(\"symbol name base exponent\")\n",
    "print(\"------ ---- ---- --------\")\n",
    "for prefix in binprefix.si_binary_prefixes.values():\n",
    "    print(f\"{prefix!s:6} {prefix.name:4} {prefix.base:4} {prefix.exponent:8}\")"
   ]
  },
  {
   "cell_type": "markdown",
   "id": "ff77be57",
   "metadata": {},
   "source": [
    "## Fraction\n",
    "\n",
    "Multiples and sub-multiples can be expressed with factors."
   ]
  },
  {
   "cell_type": "code",
   "execution_count": 9,
   "id": "841af2dd",
   "metadata": {},
   "outputs": [
    {
     "name": "stdout",
     "output_type": "stream",
     "text": [
      "Mt\n"
     ]
    },
    {
     "data": {
      "text/plain": [
       "Unit(symbol=\"Mt\", name=\"megatonnes\", dimension=Dimension(kg=1, m=0, s=0, A=0, K=0, cd=0, mol=0), prefix=Prefix(base=10, exponent=6, symbol=\"M\", name=\"mega\"), factor=Fraction(1000, 1))"
      ]
     },
     "execution_count": 9,
     "metadata": {},
     "output_type": "execute_result"
    }
   ],
   "source": [
    "from fractions import Fraction\n",
    "Mt = Unit(\"Mt\", \"megatonnes\", Dimension(kg=1), decprefix.M, Fraction(1000,1))\n",
    "print(Mt)\n",
    "Mt"
   ]
  },
  {
   "cell_type": "markdown",
   "id": "c5c38da0",
   "metadata": {},
   "source": [
    "## Unit Map\n",
    "\n",
    "You can map objects to units in a `UnitMap`."
   ]
  },
  {
   "cell_type": "code",
   "execution_count": 10,
   "id": "3608f8bf",
   "metadata": {},
   "outputs": [
    {
     "name": "stdout",
     "output_type": "stream",
     "text": [
      "mass: 10 Mt\n"
     ]
    }
   ],
   "source": [
    "from unitsofmeasure import UnitMap\n",
    "unit_map = UnitMap()\n",
    "class Measure:\n",
    "    def __init__(self, value):\n",
    "        self.value = value\n",
    "mass = Measure(10)\n",
    "unit_map.map_to_unit(mass, Mt)\n",
    "print(\"mass:\", mass.value, unit_map.get_unit_of(mass))"
   ]
  },
  {
   "cell_type": "markdown",
   "id": "31df2ce0",
   "metadata": {},
   "source": [
    "This is less invasive than injecting units as attributes into arbitrary objects, which can cause silent errors if objects already have attributes of the same name."
   ]
  },
  {
   "cell_type": "code",
   "execution_count": 11,
   "id": "93b7336b",
   "metadata": {},
   "outputs": [
    {
     "name": "stdout",
     "output_type": "stream",
     "text": [
      "unit: Data Center\n",
      "unit: kW\n"
     ]
    }
   ],
   "source": [
    "class Generator:\n",
    "    def __init__(self, name, power, unit):\n",
    "        self.name = name\n",
    "        self.power = power\n",
    "        self.unit = unit\n",
    "gen = Generator(\"Generator 1\", 10, \"Data Center\")\n",
    "print(\"unit:\", gen.unit)\n",
    "gen.unit = Unit(\"kW\", \"kilowatt\", derived.W.dimension, decprefix.k)\n",
    "print(\"unit:\", gen.unit)"
   ]
  }
 ],
 "metadata": {
  "kernelspec": {
   "display_name": "Python 3 (ipykernel)",
   "language": "python",
   "name": "python3"
  },
  "language_info": {
   "codemirror_mode": {
    "name": "ipython",
    "version": 3
   },
   "file_extension": ".py",
   "mimetype": "text/x-python",
   "name": "python",
   "nbconvert_exporter": "python",
   "pygments_lexer": "ipython3",
   "version": "3.9.6"
  }
 },
 "nbformat": 4,
 "nbformat_minor": 5
}
