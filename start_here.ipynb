{
 "cells": [
  {
   "cell_type": "markdown",
   "id": "db1d999c",
   "metadata": {},
   "source": [
    "# Units of Measure\n",
    "\n",
    "This library `units-of-measure` (package `unitsofmeasure`) models units of measurement.\n",
    "\n",
    "## Scalar\n",
    "\n",
    "Scalars have no physical dimension."
   ]
  },
  {
   "cell_type": "code",
   "execution_count": 1,
   "id": "0fb0c495",
   "metadata": {},
   "outputs": [
    {
     "name": "stdout",
     "output_type": "stream",
     "text": [
      "angle: 90 °\n"
     ]
    },
    {
     "data": {
      "text/plain": [
       "Unit(symbol=\"°\", name=\"degree\", dimension=Dimension(kg=0, m=0, s=0, A=0, K=0, cd=0, mol=0), prefix=Prefix(base=10, exponent=0, symbol=\"\", name=\"\"), factor=Fraction(1, 1))"
      ]
     },
     "execution_count": 1,
     "metadata": {},
     "output_type": "execute_result"
    }
   ],
   "source": [
    "from unitsofmeasure import Unit\n",
    "angle = 90\n",
    "deg = Unit(\"°\", \"degree\")\n",
    "print(\"angle:\", angle, deg)\n",
    "deg"
   ]
  },
  {
   "cell_type": "markdown",
   "id": "3818b6c6",
   "metadata": {},
   "source": [
    "## Dimension\n",
    "\n",
    "Physical units have a dimension."
   ]
  },
  {
   "cell_type": "code",
   "execution_count": 2,
   "id": "939b38dd",
   "metadata": {},
   "outputs": [
    {
     "name": "stdout",
     "output_type": "stream",
     "text": [
      "time: 60 s\n"
     ]
    },
    {
     "data": {
      "text/plain": [
       "Unit(symbol=\"s\", name=\"second\", dimension=Dimension(kg=0, m=0, s=1, A=0, K=0, cd=0, mol=0), prefix=Prefix(base=10, exponent=0, symbol=\"\", name=\"\"), factor=Fraction(1, 1))"
      ]
     },
     "execution_count": 2,
     "metadata": {},
     "output_type": "execute_result"
    }
   ],
   "source": [
    "from unitsofmeasure import Dimension\n",
    "time = 60\n",
    "s = Unit(\"s\", \"second\", Dimension(s=1))\n",
    "print(\"time:\", time, s)\n",
    "s"
   ]
  },
  {
   "cell_type": "code",
   "execution_count": 3,
   "id": "fdd41c54",
   "metadata": {},
   "outputs": [
    {
     "name": "stdout",
     "output_type": "stream",
     "text": [
      "rotational speed: 0.004166666666666667 rpm\n"
     ]
    },
    {
     "data": {
      "text/plain": [
       "Unit(symbol=\"rpm\", name=\"rounds per minute\", dimension=Dimension(kg=0, m=0, s=-1, A=0, K=0, cd=0, mol=0), prefix=Prefix(base=10, exponent=0, symbol=\"\", name=\"\"), factor=Fraction(1, 1))"
      ]
     },
     "execution_count": 3,
     "metadata": {},
     "output_type": "execute_result"
    }
   ],
   "source": [
    "rpm = Unit(\"rpm\", \"rounds per minute\", Dimension(s=-1))\n",
    "print(\"rotational speed:\", angle/360/time, rpm)\n",
    "rpm"
   ]
  },
  {
   "cell_type": "markdown",
   "id": "0a0f7de2",
   "metadata": {},
   "source": [
    "## Prefix\n",
    "\n",
    "Larger or smaller quantities can be expressed with prefixes."
   ]
  },
  {
   "cell_type": "code",
   "execution_count": 4,
   "id": "016f10fb",
   "metadata": {},
   "outputs": [
    {
     "name": "stdout",
     "output_type": "stream",
     "text": [
      "mass: 80 kg\n"
     ]
    },
    {
     "data": {
      "text/plain": [
       "Unit(symbol=\"kg\", name=\"kilogram\", dimension=Dimension(kg=1, m=0, s=0, A=0, K=0, cd=0, mol=0), prefix=Prefix(base=10, exponent=3, symbol=\"k\", name=\"kilo\"), factor=Fraction(1, 1))"
      ]
     },
     "execution_count": 4,
     "metadata": {},
     "output_type": "execute_result"
    }
   ],
   "source": [
    "from unitsofmeasure.decprefix import DecimalPrefixes\n",
    "mass = 80\n",
    "kg = Unit(\"kg\", \"kilogram\", Dimension(kg=1), DecimalPrefixes.k)\n",
    "print(\"mass:\", mass, kg)\n",
    "kg"
   ]
  },
  {
   "cell_type": "markdown",
   "id": "ff77be57",
   "metadata": {},
   "source": [
    "## Fraction\n",
    "\n",
    "Multiples and submultiples can be expressed with factors."
   ]
  },
  {
   "cell_type": "code",
   "execution_count": 5,
   "id": "841af2dd",
   "metadata": {},
   "outputs": [
    {
     "name": "stdout",
     "output_type": "stream",
     "text": [
      "Mt\n"
     ]
    },
    {
     "data": {
      "text/plain": [
       "Unit(symbol=\"Mt\", name=\"megatonnes\", dimension=Dimension(kg=1, m=0, s=0, A=0, K=0, cd=0, mol=0), prefix=Prefix(base=10, exponent=6, symbol=\"M\", name=\"mega\"), factor=Fraction(1000, 1))"
      ]
     },
     "execution_count": 5,
     "metadata": {},
     "output_type": "execute_result"
    }
   ],
   "source": [
    "from fractions import Fraction\n",
    "Mt = Unit(\"Mt\", \"megatonnes\", Dimension(kg=1), DecimalPrefixes.M, Fraction(1000,1))\n",
    "print(Mt)\n",
    "Mt"
   ]
  }
 ],
 "metadata": {
  "kernelspec": {
   "display_name": "Python 3 (ipykernel)",
   "language": "python",
   "name": "python3"
  },
  "language_info": {
   "codemirror_mode": {
    "name": "ipython",
    "version": 3
   },
   "file_extension": ".py",
   "mimetype": "text/x-python",
   "name": "python",
   "nbconvert_exporter": "python",
   "pygments_lexer": "ipython3",
   "version": "3.9.6"
  }
 },
 "nbformat": 4,
 "nbformat_minor": 5
}
